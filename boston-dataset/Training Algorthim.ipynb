{
 "cells": [
  {
   "cell_type": "code",
   "execution_count": 1,
   "metadata": {
    "collapsed": true
   },
   "outputs": [],
   "source": [
    "from sklearn import datasets"
   ]
  },
  {
   "cell_type": "code",
   "execution_count": 2,
   "metadata": {},
   "outputs": [
    {
     "name": "stdout",
     "output_type": "stream",
     "text": [
      "['CRIM' 'ZN' 'INDUS' 'CHAS' 'NOX' 'RM' 'AGE' 'DIS' 'RAD' 'TAX' 'PTRATIO'\n",
      " 'B' 'LSTAT']\n"
     ]
    }
   ],
   "source": [
    "boston=datasets.load_boston()\n",
    "X=boston.data\n",
    "Y=boston.target\n",
    "\n",
    "import pandas as pd\n",
    "df=pd.DataFrame(X)\n",
    "print(boston.feature_names)\n",
    "df.columns=boston.feature_names\n"
   ]
  },
  {
   "cell_type": "code",
   "execution_count": 9,
   "metadata": {},
   "outputs": [
    {
     "name": "stdout",
     "output_type": "stream",
     "text": [
      "(379, 13)\n",
      "(127, 13)\n",
      "(379,)\n",
      "(127,)\n"
     ]
    }
   ],
   "source": [
    "from sklearn import model_selection\n",
    "X_train,X_test,Y_train,Y_test=model_selection.train_test_split(X,Y)\n",
    "print(X_train.shape)\n",
    "print(X_test.shape)\n",
    "print(Y_train.shape)\n",
    "print(Y_test.shape)"
   ]
  },
  {
   "cell_type": "code",
   "execution_count": 12,
   "metadata": {
    "collapsed": true
   },
   "outputs": [],
   "source": [
    "#import the algorithm in our code\n",
    "\n",
    "from sklearn.linear_model import LinearRegression\n",
    "alg1=LinearRegression()\n"
   ]
  },
  {
   "cell_type": "code",
   "execution_count": 13,
   "metadata": {},
   "outputs": [
    {
     "data": {
      "text/plain": [
       "LinearRegression(copy_X=True, fit_intercept=True, n_jobs=1, normalize=False)"
      ]
     },
     "execution_count": 13,
     "metadata": {},
     "output_type": "execute_result"
    }
   ],
   "source": [
    "alg1.fit(X_train,Y_train)"
   ]
  },
  {
   "cell_type": "code",
   "execution_count": 17,
   "metadata": {},
   "outputs": [],
   "source": [
    "Y_pred=alg1.predict(X_test)\n",
    "#compare Y_pred and Y_test "
   ]
  },
  {
   "cell_type": "code",
   "execution_count": 18,
   "metadata": {},
   "outputs": [
    {
     "data": {
      "text/plain": [
       "array([ 23.40048355,  27.178073  ,  14.52629355,  30.50686097,\n",
       "        26.4263862 ,  15.28879374,  36.07408543,  17.92242406,\n",
       "        24.78964964,  29.27849246,  22.81721435,  30.04417117,\n",
       "        19.41617683,  22.81023042,  10.71938553,  34.63815554,\n",
       "        25.37189372,  33.86307624,  13.56580123,  18.22972959,\n",
       "        39.7973404 ,  13.09571521,  24.96884129,  17.02485945,\n",
       "        20.24115629,  27.88881972,  19.75640012,  20.71111533,\n",
       "        17.17607573,  19.36160136,   8.41318905,  34.00684312,\n",
       "        31.32925143,  19.1733193 ,  20.5425421 ,  19.52898089,\n",
       "        23.00606889,  13.94785918,  26.68258445,  21.16485502,\n",
       "        15.61527742,  22.42563996,  30.96469815,  36.98901543,\n",
       "        23.52325678,  12.79116561,   3.81490399,  28.44817845,\n",
       "        13.59577947,  13.1991672 ,  19.86988878,  20.65090148,\n",
       "        22.36358992,  20.26637898,  20.92070105,  29.1407248 ,\n",
       "        39.28733657,  23.95654626,  28.75553884,  21.08560204,\n",
       "        16.06983246,  25.93911701,  20.02399627,  21.78505315,\n",
       "        39.62032099,  29.53975368,  24.09436878,  16.90997227,\n",
       "        14.42213657,  18.32356421,  20.38065792,  20.98991394,\n",
       "        35.47096361,  33.06944778,  27.52744865,  14.07728381,\n",
       "        25.24164548,   6.64487017,   1.58319083,  13.22226766,\n",
       "        10.12347293,  17.32060743,  24.99932781,  20.24386862,\n",
       "        29.53567234,  33.72301816,  18.83039629,  37.41927016,\n",
       "        37.6273446 ,  22.43660502,  16.87947577,  30.22642508,\n",
       "        13.56686814,  16.72468933,  28.38872306,  27.19684225,\n",
       "        21.49642631,  20.11658705,  26.47331615,  20.52320094,\n",
       "        25.90430768,  10.01505484,  18.74320373,  13.02850025,\n",
       "        16.46469666,  21.25659392,  29.09460055,  23.8224411 ,\n",
       "         3.45130618,  16.45595944,  11.28302054,  33.11543546,\n",
       "        24.63965505,  11.74743045,   6.46294465,  30.57257399,\n",
       "        19.0850989 ,  22.58264571,  29.0467322 ,  19.91661874,\n",
       "        29.2884991 ,  24.74036304,  26.93126082,  32.97141945,\n",
       "        35.23861024,   8.13076467,  18.15747394])"
      ]
     },
     "execution_count": 18,
     "metadata": {},
     "output_type": "execute_result"
    }
   ],
   "source": [
    "Y_pred"
   ]
  },
  {
   "cell_type": "code",
   "execution_count": 26,
   "metadata": {},
   "outputs": [
    {
     "data": {
      "image/png": "[encoded data removed]",
      "text/plain": [
       "<matplotlib.figure.Figure at 0x1f35ae22470>"
      ]
     },
     "metadata": {},
     "output_type": "display_data"
    }
   ],
   "source": [
    "import matplotlib.pyplot as plt \n",
    "plt.scatter(Y_test,Y_pred)\n",
    "plt.axis([0,40,0,40])\n",
    "plt.show()"
   ]
  },
  {
   "cell_type": "code",
   "execution_count": null,
   "metadata": {
    "collapsed": true
   },
   "outputs": [],
   "source": []
  }
 ],
 "metadata": {
  "kernelspec": {
   "display_name": "Python 3",
   "language": "python",
   "name": "python3"
  },
  "language_info": {
   "codemirror_mode": {
    "name": "ipython",
    "version": 3
   },
   "file_extension": ".py",
   "mimetype": "text/x-python",
   "name": "python",
   "nbconvert_exporter": "python",
   "pygments_lexer": "ipython3",
   "version": "3.6.3"
  }
 },
 "nbformat": 4,
 "nbformat_minor": 2
}
